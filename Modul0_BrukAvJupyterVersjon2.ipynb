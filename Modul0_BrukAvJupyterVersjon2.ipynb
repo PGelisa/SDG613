{
 "cells": [
  {
   "cell_type": "markdown",
   "metadata": {},
   "source": [
    "# Modul 0 - Bruk av JupyterLab til øvelser \n",
    "I kurset skal vi etterhvert bruke en enkel klimamodell, en toboksmodell, for å beregne temperaturresponser på ulike faktorer. Vi skal både bruke fortidsdata som er basert på observasjoner, og fremtidsdata som er basert på de større klimamodellene. \n",
    "\n",
    "I denne modulen skal du trene på å hente inn data som ligger i en csv-fil, og så bruke kommandoer fra biblioteket `pandas` til å hente ut informasjon fra de dataene som ligger i filen. Pandas gjør det enkelt å lage finere plot, og å hente ut spesifikke data fra datafilen, selv om datamengden er stor. "
   ]
  },
  {
   "cell_type": "code",
   "execution_count": null,
   "metadata": {},
   "outputs": [],
   "source": [
    "import pandas as pd # importerer pandas og bruker forkortelsen pd\n",
    "import matplotlib.pyplot as plt # importerer bibliotek som gjør at man kan lage plott liknende MatLab\n",
    "\n",
    "df=pd.read_csv('historical.csv',index_col = 0,sep=',',encoding = \"utf-8\") "
   ]
  },
  {
   "cell_type": "markdown",
   "metadata": {},
   "source": [
    "# Visualisér dine data\n",
    "Du kan visualisere det datasettet som du nettopp har lastet inn ved å skrive inn navnet på din dataframe (i.e. <b>df</b>)"
   ]
  },
  {
   "cell_type": "code",
   "execution_count": null,
   "metadata": {},
   "outputs": [],
   "source": [
    "df"
   ]
  },
  {
   "cell_type": "code",
   "execution_count": null,
   "metadata": {},
   "outputs": [],
   "source": [
    "df.index=df.index.astype(int) # årstallene lastes inn som flyttall - her endres de til heltall\n",
    "df.plot() # her lager vi plot fra de dataene som finnes i datafilen, vi har ikke gjort noen beregninger"
   ]
  },
  {
   "cell_type": "code",
   "execution_count": null,
   "metadata": {},
   "outputs": [],
   "source": [
    "df.plot(ylabel=\"W/m$^2$\",title=\"Strålingspådriv fra ulike faktorer fra 1750 og frem til i dag\")\n",
    "# her har vi lagt til litt mer informasjon til selve plottet, men fortsatt ingen beregninger"
   ]
  },
  {
   "cell_type": "markdown",
   "metadata": {},
   "source": [
    "## Hente spesifikke data\n",
    "Noen ganger ønsker vi å se på verdier fra spesifikke år. Årstallene fungerer som index i datarammen vi har laget med dataene. Vi kan derfor hente ut verdiene fra de ulike årstallene som vist under. Denne metoden vil dere få bruk for i oppgavene senere. Test gjerne ut med ulike årstall. \n",
    "`df.loc[årstall]`"
   ]
  },
  {
   "cell_type": "code",
   "execution_count": null,
   "metadata": {},
   "outputs": [],
   "source": [
    "df.loc[1900]"
   ]
  },
  {
   "cell_type": "code",
   "execution_count": null,
   "metadata": {},
   "outputs": [],
   "source": [
    "df.loc[1900,'solinnstråling']"
   ]
  },
  {
   "cell_type": "markdown",
   "metadata": {},
   "source": [
    "### Lete etter verdier\n",
    "Vi har også mulighet til å lete etter bestemte verdier eller intervaller. Under vises en måte å hente ut data for når pådrivet fra vulkaner er mindre enn $-4 W/m^2$. "
   ]
  },
  {
   "cell_type": "code",
   "execution_count": null,
   "metadata": {},
   "outputs": [],
   "source": [
    "df.loc[df['vulkanisme']<-4]"
   ]
  },
  {
   "cell_type": "markdown",
   "metadata": {},
   "source": [
    "Vi kan også velge å bare vise den kolonnen som vi er interessert i:"
   ]
  },
  {
   "cell_type": "code",
   "execution_count": null,
   "metadata": {},
   "outputs": [],
   "source": [
    "df.loc[df['vulkanisme']<-4,'vulkanisme']"
   ]
  },
  {
   "cell_type": "markdown",
   "metadata": {},
   "source": [
    "## Hvilke faktorer ønsker du å ta med i beregningene?\n",
    "Noen ganger så ønsker man bare å studere effektene av eksempelvis solens aktivitet. Sett parameterne under til 1 eller 0, alt ettersom du ønsker å ha dem med eller ei. I koden under lages en ny dataramme som inneholder totalt pådriv med disse faktorene."
   ]
  },
  {
   "cell_type": "code",
   "execution_count": null,
   "metadata": {},
   "outputs": [],
   "source": [
    "# --------------------\n",
    "# Forcing switches [n=1 off=0]\n",
    "# --------------------\n",
    "switch_ghg=0     # Greenhouse gas forcing on=1 off=0\n",
    "switch_solar=1   # Solar forcing on=1 off=0\n",
    "switch_volc=0    # Volcanic forcing on=1 off=0\n",
    "switch_land=0    # Landuse forcing on=1 off=0\n",
    "switch_aero=0    # Pollution particle forcing on=1 off=0"
   ]
  },
  {
   "cell_type": "code",
   "execution_count": null,
   "metadata": {},
   "outputs": [],
   "source": [
    "total_forcing = switch_ghg*df['drivhusgasser']+switch_solar*df['solinnstråling']+switch_volc*df['vulkanisme']+switch_land*df['arealbruk']+switch_aero*df['aerosoler']\n",
    "total_forcing.plot()\n",
    "plt.axhline(y=0, linewidth=0.7, color=\"black\")"
   ]
  },
  {
   "cell_type": "markdown",
   "metadata": {},
   "source": [
    "## Veien videre\n",
    "Senere skal vi bruke disse dataene til å si noe om temperaturresponsen i klimasystemet basert på de ulike drivkreftene. Vi skal bruke en enkel klimamodell for å kunne studere hvordan de ulike faktorene påvirker temperaturen i atmosfæren."
   ]
  },
  {
   "cell_type": "markdown",
   "metadata": {},
   "source": [
    "# Beregne middelverdier og sum"
   ]
  },
  {
   "cell_type": "code",
   "execution_count": null,
   "metadata": {},
   "outputs": [],
   "source": [
    "# opprett simpel dataframe for test\n",
    "data = [[1, 1, 2], [6, 4, 2], [4, 2, 1], [4, 2, 3]]\n",
    "\n",
    "A = pd.DataFrame(data)\n",
    "\n",
    "# Beregn middelverdi langs rekker\n",
    "print(A.mean())\n",
    "\n",
    "# Tilsvarende kan vi også beregne summen via funktionen \"df.sum()\"\n",
    "print(A.sum())"
   ]
  },
  {
   "cell_type": "markdown",
   "metadata": {},
   "source": [
    "Som default beregnes middelverdien langs den 1. dimensjon av dataframe (langs rekker). Om du vil beregne verdien langs kolonner istedet må du definere dette:"
   ]
  },
  {
   "cell_type": "code",
   "execution_count": null,
   "metadata": {},
   "outputs": [],
   "source": [
    "# middelverdi langs kolonner\n",
    "print(A.mean(axis='columns'))\n",
    "\n",
    "# sum langs kolonner\n",
    "print(A.sum(axis='columns'))"
   ]
  },
  {
   "cell_type": "markdown",
   "metadata": {},
   "source": [
    "## Beregne middelverdier av strålingsdata \n",
    "Prøv nå å beregne middelverdien for \n",
    "1. hele tidsperioden (år 1750-2011) for hver strålingspådriv (*drivhusgasser, solinnstråling, vulkanisme, arealbruk, aerosoler*)  \n",
    "2. det totale strålingspådriv, men for hvert årstall "
   ]
  },
  {
   "cell_type": "code",
   "execution_count": null,
   "metadata": {},
   "outputs": [],
   "source": [
    "print(df.mean())\n",
    "\n",
    "print(df.mean(axis='columns'))"
   ]
  },
  {
   "cell_type": "markdown",
   "metadata": {},
   "source": [
    "## Beregne middelverdier over en bestemt periode\n",
    "\n",
    "For at få ut verdier over en bestemt periode (eller for en bestemt variabel) kan vi benytte funktionen *loc*, som vi brukte tidligere\n"
   ]
  },
  {
   "cell_type": "code",
   "execution_count": null,
   "metadata": {},
   "outputs": [],
   "source": [
    "df1800_1900 = df.loc[1800:1900] # for år 1800-1900\n",
    "df1900_2000 = df.loc[1900:2000] # for år 1900-2000\n",
    "\n",
    "print(df1800_1900)\n"
   ]
  },
  {
   "cell_type": "markdown",
   "metadata": {},
   "source": [
    "## Øvelse\n",
    "\n",
    "Vi kan nå beregne middelsverdier for hvert enkelt strålingspådriv over perioden 1800-1900 og 1900-2000. Svar deretter på følgende: \n",
    "\n",
    "1. Hvilket pådriv har vært dominerende i perioden **før** den industrielle revolusjon (år 1800-1900)?\n",
    "2. Ser du en endring i hvilket pådriv som har vært dominerende i perioden **etter** den industrielle revolusjon (år 1900-2000)\n",
    "3. Hva er det totale (sum) strålingspådriv for de to perioder? \n"
   ]
  },
  {
   "cell_type": "code",
   "execution_count": null,
   "metadata": {},
   "outputs": [],
   "source": [
    "df1800_1900_mean = df1800_1900.mean()\n",
    "df1900_2000_mean = df1900_2000.mean()\n",
    "\n",
    "print(\"middelsværdier over perioden 1800-1900:\\n\", df1800_1900_mean)\n",
    "print(\"middelsværdier over perioden 1900-2000:\\n\", df1900_2000_mean)\n",
    "\n",
    "print(\"Total pådriv over perioden 1800-1900:\\n\", df1800_1900_mean.sum())\n",
    "\n",
    "print(\"Total pådriv over perioden 1900-2000:\\n\", df1900_2000_mean.sum())\n"
   ]
  },
  {
   "cell_type": "markdown",
   "metadata": {},
   "source": [
    "# Eksempel på barplot\n",
    "\n",
    "Vi kan visualisere disse data med et barplot\n"
   ]
  },
  {
   "cell_type": "code",
   "execution_count": null,
   "metadata": {},
   "outputs": [],
   "source": [
    "# definér ny dataframe mead værdiene fra 'df1800_1900_mean' og 'df1900_2000_mean'\n",
    "plotdata = pd.DataFrame({\n",
    "    \"1800-1900\":df1800_1900_mean,\n",
    "    \"1900-2000\":df1900_2000_mean,\n",
    "    }, \n",
    ")\n",
    "\n",
    "plotdata.plot(kind=\"bar\") # lage bar plot\n"
   ]
  },
  {
   "cell_type": "code",
   "execution_count": null,
   "metadata": {},
   "outputs": [],
   "source": []
  }
 ],
 "metadata": {
  "kernelspec": {
   "display_name": "Python 3",
   "language": "python",
   "name": "python3"
  },
  "language_info": {
   "codemirror_mode": {
    "name": "ipython",
    "version": 3
   },
   "file_extension": ".py",
   "mimetype": "text/x-python",
   "name": "python",
   "nbconvert_exporter": "python",
   "pygments_lexer": "ipython3",
   "version": "3.8.8"
  }
 },
 "nbformat": 4,
 "nbformat_minor": 4
}
