{
 "cells": [
  {
   "cell_type": "markdown",
   "metadata": {},
   "source": [
    "# Modul 1.2 Klimasystemet - Toboksmodellen\n",
    "<img src=\"Bilder/toboksmodell.png\">\n",
    "\n",
    "Toboksmodellen er en forenklet klimamodell. Den ser på hvordan energien endrer seg i atmosfæren utfra endringer i strålingspådrivene. I figuren over ser dere at man ser på en balanse mellom stråling som går inn og ut på toppen av atmosfæren (TOA), samt de energiovergangene vi har på grensen mellom atmosfæren og det øverste laget i havet, samt at det går noe varme fra havets blandingslag til dyphavet. \n",
    "\n",
    "De som ønsker å forstå hvordan man kommer frem til formlene for beregning av temperaturendring som følge av endringer i strålingspådrivet anbefales å lese kompendiet *Climate Sensitivity*. Der vises det hvordan vi kommer frem til likningene under. Disse likningene er kodet og ligger i en Python-fil i mappen deres. Filen heter toboks.py.\n",
    "\n",
    "$c_{mix}$ og $c_{deep}$ forteller om varmekapasiteten til overflatelaget i havet og i dyphavet. $\\Delta T_s$ gir endringer i overflatetemperaturer, mens $\\Delta T_o$ endringer i temperaturen i dyphavet. $\\lambda$ er tilbakekoblingseffekter, og $\\gamma$ varmeopptak i havet.\n",
    "\n",
    "$$\\begin{align}\n",
    "c_{mix}\\dfrac{d\\Delta T_s}{dt}&=Q_{adj}-\\lambda \\Delta T_s -\\gamma (\\Delta T_s -\\Delta T_0) \\\\\n",
    "c_{deep}\\dfrac{d\\Delta T_o}{dt}&=\\gamma (\\Delta T_s - \\Delta T_o)\n",
    "\\end{align}$$"
   ]
  },
  {
   "cell_type": "code",
   "execution_count": null,
   "metadata": {},
   "outputs": [],
   "source": [
    "import pandas as pd\n",
    "import matplotlib.pyplot as plt\n",
    "#%matplotlib notebook inkluder denne linjen om du vil åpne i Jupyter Notebook og vil lage interaktive plott\n",
    "\n",
    "from toboks import calculate_temp_anomalies # henter funksjonen som beregner temperaturanomalier basert på toboksmodellen\n",
    "\n",
    "df=pd.read_csv('pmip3.csv',index_col = 0,sep=',',encoding = \"utf-8\")"
   ]
  },
  {
   "cell_type": "markdown",
   "metadata": {},
   "source": [
    "## Bestem pådrivene\n",
    "Noen ganger så ønsker man bare å studere effektene av eksempelvis solens aktivitet. Sett parameterne under til 1 eller 0, alt ettersom du ønsker å ha dem med eller ei. I koden under lages en ny dataramme som inneholder totalt pådriv med disse faktorene."
   ]
  },
  {
   "cell_type": "code",
   "execution_count": null,
   "metadata": {},
   "outputs": [],
   "source": [
    "# --------------------\n",
    "# Forcing switches [n=1 off=0]\n",
    "# --------------------\n",
    "switch_ghg=1     # Greenhouse gas forcing on=1 off=0\n",
    "switch_solar=1   # Solar forcing on=1 off=0\n",
    "switch_volc=1    # Volcanic forcing on=1 off=0\n",
    "switch_land=1    # Landuse forcing on=1 off=0\n",
    "switch_aero=1    # Pollution particle forcing on=1 off=0"
   ]
  },
  {
   "cell_type": "code",
   "execution_count": null,
   "metadata": {},
   "outputs": [],
   "source": [
    "total_forcing = switch_ghg*df['drivhusgasser']+switch_solar*df['solinnstråling']+switch_volc*df['vulkanisme']+switch_land*df['arealbruk']+switch_aero*df['aerosoler']\n",
    "total_forcing.plot(title=\"Samlet strålingspådriv\",ylabel=\"$W/m^2$\")\n",
    "plt.axhline(y=0, linewidth=0.7, color=\"black\")"
   ]
  },
  {
   "cell_type": "markdown",
   "metadata": {},
   "source": [
    "## Tilbakekoblingsfaktorer"
   ]
  },
  {
   "cell_type": "code",
   "execution_count": null,
   "metadata": {},
   "outputs": [],
   "source": [
    "# CMIP5 values\n",
    "lambda_planck=-3.1     # Stefan Boltzmann's 'feedback' [Wm-2K-1] best guesses  [-3.3 to -3.1]\n",
    "lambda_lapse=-0.6      # Lapse rate feedback [Wm-2K-1] best guesses [-1.2 to -0.5]\n",
    "lambda_water=1.7       # water vapor feedback [Wm-2K-1] best guesses [1.5 to 2.2]\n",
    "lambda_cloud=0.50      # Clouds feedback [Wm-2K-1] best guesses [0.1 to 1.2]\n",
    "lambda_albedo=0.40     # Surface albedo feedback [Wm-2K-1] best guesses [0.1 to 0.4]\n",
    "lambda_other=0.0       # Other feedbacks [Wm-2K-1]\n",
    "\n",
    "\n",
    "lambda_sum=sum([lambda_planck,\n",
    "    lambda_lapse,\n",
    "    lambda_water,\n",
    "    lambda_cloud,\n",
    "    lambda_albedo,\n",
    "    lambda_other])"
   ]
  },
  {
   "cell_type": "code",
   "execution_count": null,
   "metadata": {},
   "outputs": [],
   "source": [
    "# Deep ocean\n",
    "# Heat uptake efficency [Wm-2K-1]\n",
    "# CMIP3 values\n",
    "gamma=-0.69  # best guesses [-1 to -0.5]"
   ]
  },
  {
   "cell_type": "code",
   "execution_count": null,
   "metadata": {},
   "outputs": [],
   "source": [
    "radiative_forcing = total_forcing.to_numpy()"
   ]
  },
  {
   "cell_type": "markdown",
   "metadata": {},
   "source": [
    "## Temperaturendringer\n",
    "Vi ønsker nå å beregne hvordan temperaturen endrer seg som resultat av hvilke strålingspådriv vi har slått på, verdiene vi har satt for tilbakekoblingsmekanismer, og varmeutveksling til havet. "
   ]
  },
  {
   "cell_type": "code",
   "execution_count": null,
   "metadata": {},
   "outputs": [],
   "source": [
    "Ts, To = calculate_temp_anomalies(radiative_forcing, lambda_sum, gamma) # kaller opp funksjonen som regner ut temperaturendringene"
   ]
  },
  {
   "cell_type": "code",
   "execution_count": null,
   "metadata": {},
   "outputs": [],
   "source": [
    "temp = pd.DataFrame(index=df.index) # vi lager en ny dataramme som har samme indexer som pådrivet\n",
    "temp['Temp.endring overflate']=Ts\n",
    "temp['Temp.endring dyphavet']=To\n",
    "temp.plot(ylabel=\"$\\Delta T$  $[^oC]$\", title=\"Temperaturendringer\")\n",
    "plt.axhline(y=0, linewidth=0.7, color=\"black\")"
   ]
  },
  {
   "cell_type": "code",
   "execution_count": null,
   "metadata": {},
   "outputs": [],
   "source": [
    "temp['Temp.endring dyphavet'].plot()"
   ]
  },
  {
   "cell_type": "code",
   "execution_count": null,
   "metadata": {},
   "outputs": [],
   "source": [
    "temp.plot(subplots=True)"
   ]
  },
  {
   "cell_type": "markdown",
   "metadata": {},
   "source": [
    "### Se verdier for bestemte år\n",
    "Velg årstallet du ønsker å vite verdiene for"
   ]
  },
  {
   "cell_type": "code",
   "execution_count": null,
   "metadata": {},
   "outputs": [],
   "source": [
    "temp.loc[1950]"
   ]
  },
  {
   "cell_type": "markdown",
   "metadata": {},
   "source": [
    "### Nå kan du velge å lage et anomali-plott der du trekker fra verdiene fra et bestemt år"
   ]
  },
  {
   "cell_type": "code",
   "execution_count": null,
   "metadata": {},
   "outputs": [],
   "source": [
    "aarstall=1900 # endre årstallet selv\n",
    "temp2 = pd.DataFrame(index=df.index)\n",
    "temp2[f'Endring overflatetemp i forhold til {aarstall}']=temp['Temp.endring overflate']-temp.at[aarstall,'Temp.endring overflate']\n",
    "temp2.plot(ylabel='$^oC$')\n",
    "plt.axhline(y=0, linewidth=0.7, color=\"black\")"
   ]
  }
 ],
 "metadata": {
  "kernelspec": {
   "display_name": "Python 3",
   "language": "python",
   "name": "python3"
  },
  "language_info": {
   "codemirror_mode": {
    "name": "ipython",
    "version": 3
   },
   "file_extension": ".py",
   "mimetype": "text/x-python",
   "name": "python",
   "nbconvert_exporter": "python",
   "pygments_lexer": "ipython3",
   "version": "3.8.8"
  }
 },
 "nbformat": 4,
 "nbformat_minor": 4
}
