{
 "cells": [
  {
   "cell_type": "markdown",
   "metadata": {},
   "source": [
    "# Modul 1.2 Klimasystemet - Toboksmodellen\n"
   ]
  },
  {
   "cell_type": "code",
   "execution_count": 12,
   "metadata": {},
   "outputs": [
    {
     "name": "stdin",
     "output_type": "stream",
     "text": [
      "Vil du se på historiske data siden 1750, velg 1, hvis du vil se for siste millenium trykk 2\n",
      ">>  2\n"
     ]
    }
   ],
   "source": [
    "import pandas as pd\n",
    "import matplotlib.pyplot as plt\n",
    "\n",
    "from calculate_temp_anomalies import calculate_temp_anomalies\n",
    "\n",
    "variabel = int(input(\"Vil du se på historiske data siden 1750, velg 1, hvis du vil se for siste millenium trykk 2\\n>> \"))\n",
    "if variabel == 1:\n",
    "    df=pd.read_csv('historical.csv',index_col = 0,sep=',',encoding = \"utf-8\")\n",
    "elif variabel == 2:\n",
    "    df=pd.read_csv('pmip3.csv',index_col = 0,sep=',',encoding = \"utf-8\")"
   ]
  },
  {
   "cell_type": "code",
   "execution_count": 13,
   "metadata": {},
   "outputs": [
    {
     "data": {
      "text/plain": [
       "<AxesSubplot:title={'center':'Strålingspådriv fra 1750 til i dag'}, xlabel='year', ylabel='W/m^2'>"
      ]
     },
     "execution_count": 13,
     "metadata": {},
     "output_type": "execute_result"
    },
    {
     "data": {
      "image/png": "[encoded data removed]",
      "text/plain": [
       "<Figure size 432x288 with 1 Axes>"
      ]
     },
     "metadata": {
      "needs_background": "light"
     },
     "output_type": "display_data"
    }
   ],
   "source": [
    "df.index=df.index.astype(int) # årstallene lastes inn som flyttall - her endres de til heltall\n",
    "df.plot(ylabel=\"W/m^2\",title=\"Strålingspådriv fra 1750 til i dag\") # her lager vi plot fra de dataene som finnes i datafilen"
   ]
  },
  {
   "cell_type": "markdown",
   "metadata": {},
   "source": [
    "## Hente spesifikke data\n",
    "Noen ganger ønsker vi å se på verdier fra spesifikke år. Årstallene fungerer som index i datarammen vi har laget med dataene. Vi kan derfor hente ut verdiene fra de ulike årstallene som vist under. Denne metoden vil dere få bruk for i oppgavene senere. Test gjerne ut med ulike årstall. \n",
    "`df.loc[årstall]`"
   ]
  },
  {
   "cell_type": "code",
   "execution_count": 3,
   "metadata": {},
   "outputs": [
    {
     "data": {
      "text/plain": [
       "wmghg_data      0.456\n",
       "solar_data     -0.028\n",
       "volc_data      -0.050\n",
       "landuse_data   -0.060\n",
       "manaero_data   -0.266\n",
       "Name: 1900, dtype: float64"
      ]
     },
     "execution_count": 3,
     "metadata": {},
     "output_type": "execute_result"
    }
   ],
   "source": [
    "df.loc[1900]"
   ]
  },
  {
   "cell_type": "code",
   "execution_count": 4,
   "metadata": {},
   "outputs": [
    {
     "data": {
      "text/plain": [
       "-0.028"
      ]
     },
     "execution_count": 4,
     "metadata": {},
     "output_type": "execute_result"
    }
   ],
   "source": [
    "df.loc[1900,'solar_data']"
   ]
  },
  {
   "cell_type": "markdown",
   "metadata": {},
   "source": [
    "### Lete etter verdier\n",
    "Vi har også mulighet til å lete etter bestemte verdier eller intervaller. Under vises en måte å hente ut data for når pådrivet fra vulkaner er mindre enn $-4 W/m^2$. "
   ]
  },
  {
   "cell_type": "code",
   "execution_count": 5,
   "metadata": {},
   "outputs": [
    {
     "data": {
      "text/html": [
       "<div>\n",
       "<style scoped>\n",
       "    .dataframe tbody tr th:only-of-type {\n",
       "        vertical-align: middle;\n",
       "    }\n",
       "\n",
       "    .dataframe tbody tr th {\n",
       "        vertical-align: top;\n",
       "    }\n",
       "\n",
       "    .dataframe thead th {\n",
       "        text-align: right;\n",
       "    }\n",
       "</style>\n",
       "<table border=\"1\" class=\"dataframe\">\n",
       "  <thead>\n",
       "    <tr style=\"text-align: right;\">\n",
       "      <th></th>\n",
       "      <th>wmghg_data</th>\n",
       "      <th>solar_data</th>\n",
       "      <th>volc_data</th>\n",
       "      <th>landuse_data</th>\n",
       "      <th>manaero_data</th>\n",
       "    </tr>\n",
       "    <tr>\n",
       "      <th>year</th>\n",
       "      <th></th>\n",
       "      <th></th>\n",
       "      <th></th>\n",
       "      <th></th>\n",
       "      <th></th>\n",
       "    </tr>\n",
       "  </thead>\n",
       "  <tbody>\n",
       "    <tr>\n",
       "      <th>1783</th>\n",
       "      <td>0.024</td>\n",
       "      <td>-0.065</td>\n",
       "      <td>-7.857</td>\n",
       "      <td>-0.013</td>\n",
       "      <td>-0.059</td>\n",
       "    </tr>\n",
       "    <tr>\n",
       "      <th>1809</th>\n",
       "      <td>0.142</td>\n",
       "      <td>-0.065</td>\n",
       "      <td>-6.947</td>\n",
       "      <td>-0.024</td>\n",
       "      <td>-0.105</td>\n",
       "    </tr>\n",
       "    <tr>\n",
       "      <th>1815</th>\n",
       "      <td>0.145</td>\n",
       "      <td>-0.062</td>\n",
       "      <td>-11.629</td>\n",
       "      <td>-0.026</td>\n",
       "      <td>-0.116</td>\n",
       "    </tr>\n",
       "    <tr>\n",
       "      <th>1816</th>\n",
       "      <td>0.144</td>\n",
       "      <td>-0.052</td>\n",
       "      <td>-4.553</td>\n",
       "      <td>-0.026</td>\n",
       "      <td>-0.118</td>\n",
       "    </tr>\n",
       "    <tr>\n",
       "      <th>1835</th>\n",
       "      <td>0.150</td>\n",
       "      <td>-0.033</td>\n",
       "      <td>-4.935</td>\n",
       "      <td>-0.034</td>\n",
       "      <td>-0.152</td>\n",
       "    </tr>\n",
       "  </tbody>\n",
       "</table>\n",
       "</div>"
      ],
      "text/plain": [
       "      wmghg_data  solar_data  volc_data  landuse_data  manaero_data\n",
       "year                                                               \n",
       "1783       0.024      -0.065     -7.857        -0.013        -0.059\n",
       "1809       0.142      -0.065     -6.947        -0.024        -0.105\n",
       "1815       0.145      -0.062    -11.629        -0.026        -0.116\n",
       "1816       0.144      -0.052     -4.553        -0.026        -0.118\n",
       "1835       0.150      -0.033     -4.935        -0.034        -0.152"
      ]
     },
     "execution_count": 5,
     "metadata": {},
     "output_type": "execute_result"
    }
   ],
   "source": [
    "df.loc[df['volc_data']<-4]"
   ]
  },
  {
   "cell_type": "markdown",
   "metadata": {},
   "source": [
    "Vi kan også velge å bare vise den kolonnen som vi er interessert i:"
   ]
  },
  {
   "cell_type": "code",
   "execution_count": 6,
   "metadata": {},
   "outputs": [
    {
     "data": {
      "text/plain": [
       "year\n",
       "1783    -7.857\n",
       "1809    -6.947\n",
       "1815   -11.629\n",
       "1816    -4.553\n",
       "1835    -4.935\n",
       "Name: volc_data, dtype: float64"
      ]
     },
     "execution_count": 6,
     "metadata": {},
     "output_type": "execute_result"
    }
   ],
   "source": [
    "df.loc[df['volc_data']<-4,'volc_data']"
   ]
  },
  {
   "cell_type": "markdown",
   "metadata": {},
   "source": [
    "## Hvilke faktorer ønsker du å ta med i beregningene?\n",
    "Noen ganger så ønsker man bare å studere effektene av eksempelvis solens aktivitet. Sett parameterne under til 1 eller 0, alt ettersom du ønsker å ha dem med eller ei. I koden under lages en ny dataramme som inneholder totalt pådriv med disse faktorene."
   ]
  },
  {
   "cell_type": "code",
   "execution_count": 7,
   "metadata": {},
   "outputs": [],
   "source": [
    "# --------------------\n",
    "# Forcing switches [n=1 off=0]\n",
    "# --------------------\n",
    "switch_ghg=1     # Greenhouse gas forcing on=1 off=0\n",
    "switch_solar=0   # Solar forcing on=1 off=0\n",
    "switch_volc=0    # Volcanic forcing on=1 off=0\n",
    "switch_land=0    # Landuse forcing on=1 off=0\n",
    "switch_aero=0    # Pollution particle forcing on=1 off=0"
   ]
  },
  {
   "cell_type": "code",
   "execution_count": 8,
   "metadata": {},
   "outputs": [
    {
     "data": {
      "text/plain": [
       "<matplotlib.lines.Line2D at 0x7ffc155ef100>"
      ]
     },
     "execution_count": 8,
     "metadata": {},
     "output_type": "execute_result"
    },
    {
     "data": {
      "image/png": "[encoded data removed]",
      "text/plain": [
       "<Figure size 432x288 with 1 Axes>"
      ]
     },
     "metadata": {
      "needs_background": "light"
     },
     "output_type": "display_data"
    }
   ],
   "source": [
    "total_forcing = switch_ghg*df['wmghg_data']+switch_solar*df['solar_data']+switch_volc*df['volc_data']+switch_land*df['landuse_data']+switch_aero*df['manaero_data']\n",
    "total_forcing.plot()\n",
    "plt.axhline(y=0, linewidth=0.7, color=\"black\")"
   ]
  },
  {
   "cell_type": "markdown",
   "metadata": {},
   "source": [
    "## Tilbakekoblingsfaktorer"
   ]
  },
  {
   "cell_type": "code",
   "execution_count": 19,
   "metadata": {},
   "outputs": [],
   "source": [
    "lambda_planck=-3.2    \n",
    "lambda_lapse=0 #-0.8     \n",
    "lambda_water=0 #1.8      \n",
    "lambda_cloud=0 #0.70     \n",
    "lambda_albedo=0 #0.30    \n",
    "lambda_other=0 #0.0\n",
    "\n",
    "lambda_sum=sum([lambda_planck,\n",
    "    lambda_lapse,\n",
    "    lambda_water,\n",
    "    lambda_cloud,\n",
    "    lambda_albedo,\n",
    "    lambda_other])"
   ]
  },
  {
   "cell_type": "code",
   "execution_count": 20,
   "metadata": {},
   "outputs": [],
   "source": [
    "# --------------------\n",
    "# Deep ocean\n",
    "# Heat uptake efficency [Wm-2K-1]\n",
    "# --------------------\n",
    "# CMIP3\n",
    "gamma=0 #-0.69  # best guesses [-1 to -0.5]"
   ]
  },
  {
   "cell_type": "code",
   "execution_count": 21,
   "metadata": {},
   "outputs": [],
   "source": [
    "radiative_forcing = total_forcing.to_numpy()"
   ]
  },
  {
   "cell_type": "markdown",
   "metadata": {},
   "source": [
    "## Temperaturendringer\n",
    "Vi ønsker nå å beregne hvordan temperaturen endrer seg som resultat av hvilke strålingspådriv vi har slått på, verdiene vi har satt for tilbakekoblingsmekanismer, og varmeutveksling til havet. "
   ]
  },
  {
   "cell_type": "code",
   "execution_count": 22,
   "metadata": {},
   "outputs": [],
   "source": [
    "Ts, To = calculate_temp_anomalies(radiative_forcing, lambda_sum, gamma) # kaller opp funksjonen som regner ut temperaturendringene"
   ]
  },
  {
   "cell_type": "code",
   "execution_count": 23,
   "metadata": {},
   "outputs": [
    {
     "data": {
      "text/plain": [
       "<matplotlib.lines.Line2D at 0x7ffc15ae7700>"
      ]
     },
     "execution_count": 23,
     "metadata": {},
     "output_type": "execute_result"
    },
    {
     "data": {
      "image/png": "[encoded data removed]",
      "text/plain": [
       "<Figure size 432x288 with 1 Axes>"
      ]
     },
     "metadata": {
      "needs_background": "light"
     },
     "output_type": "display_data"
    }
   ],
   "source": [
    "temp = pd.DataFrame(index=df.index) # vi lager en ny dataramme som har samme indexer som pådrivet\n",
    "temp['Lufttemperatur']=Ts\n",
    "temp['Sjøtemperatur']=To\n",
    "temp.plot()\n",
    "plt.axhline(y=0, linewidth=0.7, color=\"black\")"
   ]
  },
  {
   "cell_type": "code",
   "execution_count": 24,
   "metadata": {},
   "outputs": [
    {
     "data": {
      "text/plain": [
       "<AxesSubplot:xlabel='year'>"
      ]
     },
     "execution_count": 24,
     "metadata": {},
     "output_type": "execute_result"
    },
    {
     "data": {
      "image/png": "[encoded data removed]",
      "text/plain": [
       "<Figure size 432x288 with 1 Axes>"
      ]
     },
     "metadata": {
      "needs_background": "light"
     },
     "output_type": "display_data"
    }
   ],
   "source": [
    "temp['Sjøtemperatur'].plot()"
   ]
  },
  {
   "cell_type": "code",
   "execution_count": 25,
   "metadata": {},
   "outputs": [
    {
     "data": {
      "text/plain": [
       "array([<AxesSubplot:xlabel='year'>, <AxesSubplot:xlabel='year'>],\n",
       "      dtype=object)"
      ]
     },
     "execution_count": 25,
     "metadata": {},
     "output_type": "execute_result"
    },
    {
     "data": {
      "image/png": "[encoded data removed]",
      "text/plain": [
       "<Figure size 432x288 with 2 Axes>"
      ]
     },
     "metadata": {
      "needs_background": "light"
     },
     "output_type": "display_data"
    }
   ],
   "source": [
    "temp.plot(subplots=True)"
   ]
  },
  {
   "cell_type": "code",
   "execution_count": 26,
   "metadata": {},
   "outputs": [
    {
     "data": {
      "text/plain": [
       "Lufttemperatur    0.539355\n",
       "Sjøtemperatur          NaN\n",
       "dtype: float64"
      ]
     },
     "execution_count": 26,
     "metadata": {},
     "output_type": "execute_result"
    }
   ],
   "source": [
    "temp.corrwith(df['solar_data'])"
   ]
  },
  {
   "cell_type": "markdown",
   "metadata": {},
   "source": [
    "### Se verdier for bestemte år\n",
    "Velg årstallet du ønsker å vite verdiene for"
   ]
  },
  {
   "cell_type": "code",
   "execution_count": 27,
   "metadata": {},
   "outputs": [
    {
     "data": {
      "text/plain": [
       "Lufttemperatur    0.276382\n",
       "Sjøtemperatur     0.000000\n",
       "Name: 1950, dtype: float64"
      ]
     },
     "execution_count": 27,
     "metadata": {},
     "output_type": "execute_result"
    }
   ],
   "source": [
    "temp.loc[1950]"
   ]
  },
  {
   "cell_type": "markdown",
   "metadata": {},
   "source": [
    "### Nå kan du velge å lage et anomali-plott der du trekker fra verdiene fra et bestemt år"
   ]
  },
  {
   "cell_type": "code",
   "execution_count": 28,
   "metadata": {},
   "outputs": [
    {
     "data": {
      "text/plain": [
       "<matplotlib.lines.Line2D at 0x7ffc163bf520>"
      ]
     },
     "execution_count": 28,
     "metadata": {},
     "output_type": "execute_result"
    },
    {
     "data": {
      "image/png": "[encoded data removed]",
      "text/plain": [
       "<Figure size 432x288 with 1 Axes>"
      ]
     },
     "metadata": {
      "needs_background": "light"
     },
     "output_type": "display_data"
    }
   ],
   "source": [
    "temp2 = pd.DataFrame(index=df.index)\n",
    "temp2['Lufttemperatur i forhold til 1950']=temp['Lufttemperatur']-temp.at[1950,'Lufttemperatur']\n",
    "temp2.plot(ylabel='grader C')\n",
    "plt.axhline(y=0, linewidth=0.7, color=\"black\")"
   ]
  },
  {
   "cell_type": "code",
   "execution_count": null,
   "metadata": {},
   "outputs": [],
   "source": []
  },
  {
   "cell_type": "code",
   "execution_count": null,
   "metadata": {},
   "outputs": [],
   "source": []
  }
 ],
 "metadata": {
  "kernelspec": {
   "display_name": "Python 3",
   "language": "python",
   "name": "python3"
  },
  "language_info": {
   "codemirror_mode": {
    "name": "ipython",
    "version": 3
   },
   "file_extension": ".py",
   "mimetype": "text/x-python",
   "name": "python",
   "nbconvert_exporter": "python",
   "pygments_lexer": "ipython3",
   "version": "3.8.8"
  }
 },
 "nbformat": 4,
 "nbformat_minor": 4
}
